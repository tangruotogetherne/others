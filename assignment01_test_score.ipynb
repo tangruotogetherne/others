{
 "cells": [
  {
   "cell_type": "code",
   "execution_count": 3,
   "metadata": {},
   "outputs": [
    {
     "name": "stdout",
     "output_type": "stream",
     "text": [
      "['5', '10', '7', '8', '7', '6', '7', '10', '11', '9', '9', '9', '4', '5', '3', '5', '9', '7', '11', '6', '8', '9', '12', '12', '3', '8', '11', '6', '5', '6', '13', '5', '6', '6', '6', '8', '10', '6', '5', '6', '8', '6', '5', '6', '11', '6', '6', '5', '6', '5', '6', '10', '13', '13', '7', '8', '8', '7', '13', '5', '8', '7', '7', '8', '8', '5', '7', '6', '6', '7', '7', '9', '8', '7', '9', '7', '8', '6', '6', '6', '10', '6', '9', '8', '7', '7', '9', '9', '7', '3', '7', '2', '3', '2', '7', '8', '5', '6', '4', '2', '6', '8', '8', '8', '8', '12', '7', '8', '8', '7', '4', '3', '8', '8', '12', '8', '3', '5', '9', '8', '8', '8', '8', '8', '8', '5', '6']\n",
      "[ 5. 10.  7.  8.  7.  6.  7. 10. 11.  9.  9.  9.  4.  5.  3.  5.  9.  7.\n",
      " 11.  6.  8.  9. 12. 12.  3.  8. 11.  6.  5.  6. 13.  5.  6.  6.  6.  8.\n",
      " 10.  6.  5.  6.  8.  6.  5.  6. 11.  6.  6.  5.  6.  5.  6. 10. 13. 13.\n",
      "  7.  8.  8.  7. 13.  5.  8.  7.  7.  8.  8.  5.  7.  6.  6.  7.  7.  9.\n",
      "  8.  7.  9.  7.  8.  6.  6.  6. 10.  6.  9.  8.  7.  7.  9.  9.  7.  3.\n",
      "  7.  2.  3.  2.  7.  8.  5.  6.  4.  2.  6.  8.  8.  8.  8. 12.  7.  8.\n",
      "  8.  7.  4.  3.  8.  8. 12.  8.  3.  5.  9.  8.  8.  8.  8.  8.  8.  5.\n",
      "  6.]\n",
      "[ 0  3  6  3 14 24 20 29 11  5  4  4  4  0  0]\n",
      "[ 0  1  2  3  4  5  6  7  8  9 10 11 12 13 14]\n"
     ]
    },
    {
     "data": {
      "image/png": "[encoded data removed]",
      "text/plain": [
       "<Figure size 576x360 with 1 Axes>"
      ]
     },
     "metadata": {},
     "output_type": "display_data"
    }
   ],
   "source": [
    "import numpy as np\n",
    "import matplotlib.pyplot as plt\n",
    "\n",
    "# Extracting the data from .txt file\n",
    "data = open('test01_2.txt')\n",
    "line = data.readline()\n",
    "for line in data:\n",
    "    cols = line.split()\n",
    "    print(cols)\n",
    "data.close()\n",
    "a = np.array(cols)\n",
    "# <------ VIP Step------> \n",
    "test = a.astype(float)\n",
    "print(test)\n",
    "\n",
    "# Data statistic using histogram\n",
    "ygrid = np.arange(1.,17,1)\n",
    "h,xedge = np.histogram(test, bins = ygrid)\n",
    "print(h)\n",
    "\n",
    "# Geting the image\n",
    "fig, ax = plt.subplots(figsize=[8,5])\n",
    "bar_width = 0.5\n",
    "n_score = 15\n",
    "index = np.arange(n_score)\n",
    "print(index)\n",
    "# <------ VIP Step------> \n",
    "ax.bar(index, h, bar_width, alpha=0.7, color='b')\n",
    "ax.set_xlabel('Score',fontsize=16)\n",
    "ax.set_ylabel('Count',fontsize=16)\n",
    "ax.set_title('Statistic for test 01',fontsize=18)\n",
    "ax.set_xticks(index)\n",
    "ax.set_xticklabels(('1','2','3','4','5','6','7','8','9','10','11','12','13','14','15'))\n",
    "\n",
    "fig.tight_layout()\n",
    "plt.savefig('test_01_2')"
   ]
  },
  {
   "cell_type": "code",
   "execution_count": null,
   "metadata": {},
   "outputs": [],
   "source": []
  }
 ],
 "metadata": {
  "kernelspec": {
   "display_name": "Python 3",
   "language": "python",
   "name": "python3"
  },
  "language_info": {
   "codemirror_mode": {
    "name": "ipython",
    "version": 3
   },
   "file_extension": ".py",
   "mimetype": "text/x-python",
   "name": "python",
   "nbconvert_exporter": "python",
   "pygments_lexer": "ipython3",
   "version": "3.6.5"
  }
 },
 "nbformat": 4,
 "nbformat_minor": 2
}
